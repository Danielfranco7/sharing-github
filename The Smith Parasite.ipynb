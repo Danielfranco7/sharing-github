{
 "cells": [
  {
   "cell_type": "markdown",
   "id": "b18082fe",
   "metadata": {},
   "source": [
    "## ML Project"
   ]
  },
  {
   "cell_type": "markdown",
   "id": "437765f6",
   "metadata": {},
   "source": [
    "# TO DO\n",
    "## Business Understanding\n",
    "\n",
    "##### Business Problem\n",
    "##### Who are the most likely people to get infected from the Smith Parasite\n",
    "\n",
    "##### Questions\n",
    "\n",
    "\n",
    "##### Solution Planning - Deliverables\n",
    "##### Kaggle Competition\n",
    "##### Notebook\n",
    "\n",
    "\n",
    "\n"
   ]
  },
  {
   "cell_type": "markdown",
   "id": "38ffab74",
   "metadata": {},
   "source": [
    "TL;DR de pdf de Group Project:\n",
    "1. Nova doença\n",
    "2. Prever se pessoa fica doente\n",
    "3. Datasets, atributos\n",
    "4. entregar em jupyter notebook + pdf\n",
    "5. Criterios avaliação\n",
    "_______________________________\n",
    "\n",
    " Partes do notebook - TO DO\n",
    "• Introduction - Descrever (depende de escolhas de algoritmos de expl, prep, model)\n",
    "• Exploration - Quais os métodos dados nas aulas? -> lista\n",
    "• Preprocessing - Quais os métodos dados nas aulas? ->lista\n",
    "• Modelling - Quais os métodos dados nas aulas? -> lista\n",
    "• Assessment - método não dado na aula -> pesquisar método adequado para este tipo de dados \n",
    "• Conclusion - descrever (\n",
    "• References - descrever\n",
    "• Annexes - descrever (assessment)\n",
    "\n",
    "_______________________________\n",
    "\n",
    "###Exploration and Preprocessing###\n",
    "\n",
    "Feature selection \n",
    "\tFilter methods\n",
    "\tWrapper methods\n",
    "\tEmbedded methods\n",
    "Model selection and evaluation\n",
    "\n",
    "###Modelling###\n",
    "\n",
    "Linear and Logistic Regression\n",
    "Probability based Learning\n",
    "Similarity based learning\n",
    "Regression and classification trees \n",
    "Neural Networks\n",
    "Ensemble Classifiers\n",
    "SVM\n"
   ]
  },
  {
   "cell_type": "code",
   "execution_count": null,
   "id": "8902524b",
   "metadata": {},
   "outputs": [],
   "source": []
  }
 ],
 "metadata": {
  "kernelspec": {
   "display_name": "Python 3",
   "language": "python",
   "name": "python3"
  },
  "language_info": {
   "codemirror_mode": {
    "name": "ipython",
    "version": 3
   },
   "file_extension": ".py",
   "mimetype": "text/x-python",
   "name": "python",
   "nbconvert_exporter": "python",
   "pygments_lexer": "ipython3",
   "version": "3.9.12"
  }
 },
 "nbformat": 4,
 "nbformat_minor": 5
}
