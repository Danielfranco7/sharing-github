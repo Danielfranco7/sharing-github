{
 "cells": [
  {
   "cell_type": "markdown",
   "id": "b18082fe",
   "metadata": {},
   "source": [
    "## ML Project"
   ]
  },
  {
   "attachments": {},
   "cell_type": "markdown",
   "id": "437765f6",
   "metadata": {},
   "source": [
    "# TO DO\n",
    "## Business Understanding\n",
    "\n",
    "##### Business Problem\n",
    "Who are the most likely people to get infected from the Smith Parasite\n",
    "\n",
    "##### Datasets and Common Attributes\n",
    "\n",
    "test_demo & train_demo\n",
    "1. PatientID\n",
    "2. Name\n",
    "3. Birth_Year\t\n",
    "4. Region\t\n",
    "5. Education\n",
    "\n",
    "test_habits & train_habits\n",
    "1. PatientID\t\n",
    "2. Smoking_Habit\t\n",
    "3. Drinking_Habit\t\n",
    "4. Exercise\t\n",
    "5. Fruit_Habit\t\n",
    "6. Water_Habit\n",
    "\n",
    "test_health & train_health\n",
    "1. PatientID\t\n",
    "2. Height\t\n",
    "3. Weight\t\n",
    "4. High_Cholesterol\t\n",
    "5. Blood_Pressure\t\n",
    "6. Mental_Health\t\n",
    "7. Physical_Health\t\n",
    "8. Checkup\tDiabetes\n",
    "\n",
    "Train datasets have the same attributes as Test dataset while also having the training column - Disease.\n",
    "\n",
    "##### Questions\n",
    "\n",
    "\n",
    "##### Solution Planning - Deliverables\n",
    "##### Kaggle Competition\n",
    "##### Notebook\n",
    "\n",
    "\n",
    "\n"
   ]
  },
  {
   "cell_type": "markdown",
   "id": "38ffab74",
   "metadata": {},
   "source": [
    "TL;DR de pdf de Group Project:\n",
    "1. Nova doença\n",
    "2. Prever se pessoa fica doente\n",
    "3. Datasets, atributos\n",
    "4. entregar em jupyter notebook + pdf\n",
    "5. Criterios avaliação\n",
    "_______________________________\n",
    "\n",
    " Partes do notebook - TO DO\n",
    "• Introduction - Descrever (depende de escolhas de algoritmos de expl, prep, model)\n",
    "• Exploration - Quais os métodos dados nas aulas? -> lista\n",
    "• Preprocessing - Quais os métodos dados nas aulas? ->lista\n",
    "• Modelling - Quais os métodos dados nas aulas? -> lista\n",
    "• Assessment - método não dado na aula -> pesquisar método adequado para este tipo de dados \n",
    "• Conclusion - descrever (\n",
    "• References - descrever\n",
    "• Annexes - descrever (assessment)\n",
    "\n",
    "_______________________________\n",
    "\n",
    "###Exploration and Preprocessing###\n",
    "\n",
    "Feature selection \n",
    "\tFilter methods\n",
    "\tWrapper methods\n",
    "\tEmbedded methods\n",
    "Model selection and evaluation\n",
    "\n",
    "###Modelling###\n",
    "\n",
    "Linear and Logistic Regression\n",
    "Probability based Learning\n",
    "Similarity based learning\n",
    "Regression and classification trees \n",
    "Neural Networks\n",
    "Ensemble Classifiers\n",
    "SVM\n"
   ]
  },
  {
   "cell_type": "code",
   "execution_count": null,
   "id": "8902524b",
   "metadata": {},
   "outputs": [],
   "source": []
  }
 ],
 "metadata": {
  "kernelspec": {
   "display_name": "Python 3",
   "language": "python",
   "name": "python3"
  },
  "language_info": {
   "codemirror_mode": {
    "name": "ipython",
    "version": 3
   },
   "file_extension": ".py",
   "mimetype": "text/x-python",
   "name": "python",
   "nbconvert_exporter": "python",
   "pygments_lexer": "ipython3",
   "version": "3.9.12"
  }
 },
 "nbformat": 4,
 "nbformat_minor": 5
}
